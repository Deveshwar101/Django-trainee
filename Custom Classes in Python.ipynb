{
 "cells": [
  {
   "cell_type": "code",
   "execution_count": null,
   "id": "cd971973-ca69-4b39-b2f0-7070cbdb92e7",
   "metadata": {},
   "outputs": [],
   "source": [
    "\n",
    "#Description: You are tasked with creating a Rectangle class with the following requirements:\n",
    "\n",
    "#An instance of the Rectangle class requires length:int and width:int to be initialized.\n",
    "#We can iterate over an instance of the Rectangle class \n",
    "#When an instance of the Rectangle class is iterated over, we first get its length in the format: {'length': <VALUE_OF_LENGTH>} followed by the width {width: <VALUE_OF_WIDTH>}"
   ]
  },
  {
   "cell_type": "code",
   "execution_count": 3,
   "id": "3a5549c2-0481-4c5b-a2fc-c551ba7bcd29",
   "metadata": {},
   "outputs": [],
   "source": [
    "class Rectangle:\n",
    "    def __init__(self, length: int, width: int):\n",
    "        self.length = length\n",
    "        self.width = width\n",
    "\n",
    "    def __iter__(self):\n",
    "        yield {'length': self.length}\n",
    "        yield {'width': self.width}"
   ]
  },
  {
   "cell_type": "code",
   "execution_count": null,
   "id": "d3d1d92f-da56-4d71-8dc3-19edb1e6795c",
   "metadata": {},
   "outputs": [],
   "source": [
    "r = Rectangle(5, 10)\n",
    "for attr in r:\n",
    "    print(attr)"
   ]
  }
 ],
 "metadata": {
  "kernelspec": {
   "display_name": "Python 3 (ipykernel)",
   "language": "python",
   "name": "python3"
  },
  "language_info": {
   "codemirror_mode": {
    "name": "ipython",
    "version": 3
   },
   "file_extension": ".py",
   "mimetype": "text/x-python",
   "name": "python",
   "nbconvert_exporter": "python",
   "pygments_lexer": "ipython3",
   "version": "3.12.3"
  }
 },
 "nbformat": 4,
 "nbformat_minor": 5
}
